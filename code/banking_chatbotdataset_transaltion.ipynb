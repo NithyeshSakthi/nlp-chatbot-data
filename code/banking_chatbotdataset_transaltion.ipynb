{
  "nbformat": 4,
  "nbformat_minor": 0,
  "metadata": {
    "colab": {
      "provenance": []
    },
    "kernelspec": {
      "name": "python3",
      "display_name": "Python 3"
    },
    "language_info": {
      "name": "python"
    }
  },
  "cells": [
    {
      "cell_type": "markdown",
      "source": [
        "# Generating the banking-chatbot-multilingual.csv"
      ],
      "metadata": {
        "id": "zm-1oQTrMs4s"
      }
    },
    {
      "cell_type": "markdown",
      "source": [
        "1.Installing & importing translator + pandas"
      ],
      "metadata": {
        "id": "vSKUdIhsM99v"
      }
    },
    {
      "cell_type": "code",
      "execution_count": 3,
      "metadata": {
        "id": "PPTWS0M8j7e6"
      },
      "outputs": [],
      "source": [
        "\n",
        "!pip install --quiet deep-translator pandas\n",
        "from deep_translator import GoogleTranslator\n",
        "import pandas as pd\n",
        "\n"
      ]
    },
    {
      "cell_type": "markdown",
      "source": [
        "2. CSV file read (Downlaoded from kaggle and downloade/imported in/from local)"
      ],
      "metadata": {
        "id": "ENcfmSmRNPl5"
      }
    },
    {
      "cell_type": "code",
      "source": [
        "# Loading\n",
        "CSV_PATH = \"/content/Dataset_Banking_chatbot.csv\"\n",
        "df = pd.read_csv(CSV_PATH, encoding=\"latin1\")\n",
        "df[\"language\"] = \"en\"\n",
        "df[\"intent\"]   = \"unknown\"\n"
      ],
      "metadata": {
        "id": "yIPHqr35kqMK"
      },
      "execution_count": null,
      "outputs": []
    },
    {
      "cell_type": "markdown",
      "source": [
        "3. translate into a list"
      ],
      "metadata": {
        "id": "xGFOv6nLNwFF"
      }
    },
    {
      "cell_type": "code",
      "source": [
        "# translate a list\n",
        "def translate_list(texts, target):\n",
        "    return [GoogleTranslator(source='auto', target=target).translate(t)\n",
        "            for t in texts]"
      ],
      "metadata": {
        "id": "IPi6Qirakvhc"
      },
      "execution_count": null,
      "outputs": []
    },
    {
      "cell_type": "markdown",
      "source": [
        "4. Enabling the version Tamil and German"
      ],
      "metadata": {
        "id": "Pos4W4zwN7Rd"
      }
    },
    {
      "cell_type": "code",
      "source": [
        "# Genaerating Tamil, German versions alonf with English\n",
        "df_ta = df.copy(); df_ta[\"language\"] = \"ta\"\n",
        "df_ta[\"Query\"]    = translate_list(df[\"Query\"].astype(str),   \"ta\")\n",
        "df_ta[\"Response\"] = translate_list(df[\"Response\"].astype(str), \"ta\")\n",
        "\n",
        "df_de = df.copy(); df_de[\"language\"] = \"de\"\n",
        "df_de[\"Query\"]    = translate_list(df[\"Query\"].astype(str),   \"de\")\n",
        "df_de[\"Response\"] = translate_list(df[\"Response\"].astype(str), \"de\")\n"
      ],
      "metadata": {
        "id": "gLxHyp4ykyhH"
      },
      "execution_count": null,
      "outputs": []
    },
    {
      "cell_type": "markdown",
      "source": [
        "5. Merging the both languages"
      ],
      "metadata": {
        "id": "zmJyzrXLORll"
      }
    },
    {
      "cell_type": "code",
      "source": [
        "# COmbing all langauges and saved into as a banking-chatbot-multilingual.csv file\n",
        "df_all = pd.concat([df, df_ta, df_de], ignore_index=True)\n",
        "OUT = \"/content/banking-chatbot-multilingual.csv\"\n",
        "df_all.to_csv(OUT, index=False, encoding=\"utf-8\")"
      ],
      "metadata": {
        "id": "L9qoOrHRn1hN"
      },
      "execution_count": null,
      "outputs": []
    },
    {
      "cell_type": "code",
      "source": [
        "print(df_ta[\"Query\"].iloc[0])\n"
      ],
      "metadata": {
        "colab": {
          "base_uri": "https://localhost:8080/"
        },
        "id": "__z13cuio4lJ",
        "outputId": "d64d2ef9-f0f3-4b32-cb48-861ccc2cb3b6"
      },
      "execution_count": null,
      "outputs": [
        {
          "output_type": "stream",
          "name": "stdout",
          "text": [
            "புதிய வங்கிக் கணக்கை நான் எவ்வாறு திறப்பது?\n"
          ]
        }
      ]
    },
    {
      "cell_type": "code",
      "source": [
        "df.info()\n",
        "df.describe()\n",
        "df.sample(5, random_state=0)"
      ],
      "metadata": {
        "id": "LUhtItk2oZa0"
      },
      "execution_count": null,
      "outputs": []
    }
  ]
}