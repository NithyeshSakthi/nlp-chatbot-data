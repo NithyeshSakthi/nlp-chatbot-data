{
  "nbformat": 4,
  "nbformat_minor": 0,
  "metadata": {
    "colab": {
      "provenance": []
    },
    "kernelspec": {
      "name": "python3",
      "display_name": "Python 3"
    },
    "language_info": {
      "name": "python"
    }
  },
  "cells": [
    {
      "cell_type": "code",
      "source": [
        "!pip install googletrans==4.0.0-rc1\n"
      ],
      "metadata": {
        "colab": {
          "base_uri": "https://localhost:8080/"
        },
        "id": "aEg_jjIuBGpu",
        "outputId": "0cf2cc3b-dcc3-4e43-c3de-c03bb0900de2"
      },
      "execution_count": 21,
      "outputs": [
        {
          "output_type": "stream",
          "name": "stdout",
          "text": [
            "Requirement already satisfied: googletrans==4.0.0-rc1 in /usr/local/lib/python3.11/dist-packages (4.0.0rc1)\n",
            "Requirement already satisfied: httpx==0.13.3 in /usr/local/lib/python3.11/dist-packages (from googletrans==4.0.0-rc1) (0.13.3)\n",
            "Requirement already satisfied: certifi in /usr/local/lib/python3.11/dist-packages (from httpx==0.13.3->googletrans==4.0.0-rc1) (2025.6.15)\n",
            "Requirement already satisfied: hstspreload in /usr/local/lib/python3.11/dist-packages (from httpx==0.13.3->googletrans==4.0.0-rc1) (2025.1.1)\n",
            "Requirement already satisfied: sniffio in /usr/local/lib/python3.11/dist-packages (from httpx==0.13.3->googletrans==4.0.0-rc1) (1.3.1)\n",
            "Requirement already satisfied: chardet==3.* in /usr/local/lib/python3.11/dist-packages (from httpx==0.13.3->googletrans==4.0.0-rc1) (3.0.4)\n",
            "Requirement already satisfied: idna==2.* in /usr/local/lib/python3.11/dist-packages (from httpx==0.13.3->googletrans==4.0.0-rc1) (2.10)\n",
            "Requirement already satisfied: rfc3986<2,>=1.3 in /usr/local/lib/python3.11/dist-packages (from httpx==0.13.3->googletrans==4.0.0-rc1) (1.5.0)\n",
            "Requirement already satisfied: httpcore==0.9.* in /usr/local/lib/python3.11/dist-packages (from httpx==0.13.3->googletrans==4.0.0-rc1) (0.9.1)\n",
            "Requirement already satisfied: h11<0.10,>=0.8 in /usr/local/lib/python3.11/dist-packages (from httpcore==0.9.*->httpx==0.13.3->googletrans==4.0.0-rc1) (0.9.0)\n",
            "Requirement already satisfied: h2==3.* in /usr/local/lib/python3.11/dist-packages (from httpcore==0.9.*->httpx==0.13.3->googletrans==4.0.0-rc1) (3.2.0)\n",
            "Requirement already satisfied: hyperframe<6,>=5.2.0 in /usr/local/lib/python3.11/dist-packages (from h2==3.*->httpcore==0.9.*->httpx==0.13.3->googletrans==4.0.0-rc1) (5.2.0)\n",
            "Requirement already satisfied: hpack<4,>=3.0 in /usr/local/lib/python3.11/dist-packages (from h2==3.*->httpcore==0.9.*->httpx==0.13.3->googletrans==4.0.0-rc1) (3.0.0)\n"
          ]
        }
      ]
    },
    {
      "cell_type": "code",
      "execution_count": 22,
      "metadata": {
        "id": "aPRvVVsKAOgg"
      },
      "outputs": [],
      "source": [
        "import pandas as pd\n",
        "from googletrans import Translator\n",
        "\n",
        "# Load your CSV\n",
        "df = pd.read_csv(\"/content/final_banking_data_translated.csv\")"
      ]
    },
    {
      "cell_type": "code",
      "source": [
        "# function to detect Tamil characters\n",
        "def is_tamil(text):\n",
        "    return any(\"\\u0B80\" <= ch <= \"\\u0BFF\" for ch in str(text))\n",
        "\n",
        "# function to detect German keywords\n",
        "def is_german(text):\n",
        "    german_words = [\"und\", \"Sie\", \"ein\", \"das\", \"nicht\", \"der\", \"die\", \"mit\"]\n",
        "    return any(word in str(text) for word in german_words)\n"
      ],
      "metadata": {
        "id": "bOfyCbt9AgI7"
      },
      "execution_count": 23,
      "outputs": []
    },
    {
      "cell_type": "code",
      "source": [
        "# Step 1: Move misplaced Tamil responses from 'Response' to 'Response_TA'\n",
        "mask_ta = df[\"Response\"].apply(is_tamil)\n",
        "df.loc[mask_ta, \"Response_TA\"] = df.loc[mask_ta, \"Response\"]\n",
        "df.loc[mask_ta, \"Response\"] = \"\"\n",
        "\n",
        "# Step 2: Move misplaced German responses from 'Response' to 'Response_DE'\n",
        "mask_de = df[\"Response\"].apply(is_german)\n",
        "df.loc[mask_de, \"Response_DE\"] = df.loc[mask_de, \"Response\"]\n",
        "df.loc[mask_de, \"Response\"] = \"\"\n"
      ],
      "metadata": {
        "id": "QmBilaZNAjzS"
      },
      "execution_count": 24,
      "outputs": []
    },
    {
      "cell_type": "code",
      "source": [
        "# Step 3: Back-fill missing translations using Google Translate\n",
        "translator = Translator()\n",
        "\n",
        "def fill_translation(row, lang_code):\n",
        "    col = f\"Response_{lang_code.upper()}\"\n",
        "    if pd.isna(row[col]) or row[col].strip() == \"\":\n",
        "        try:\n",
        "            return translator.translate(str(row[\"Response\"]), dest=lang_code).text\n",
        "        except:\n",
        "            return \"\"\n",
        "    return row[col]\n",
        "\n",
        "# Apply for German and Tamil (rate-limited, be patient!)\n",
        "df[\"Response_DE\"] = df.apply(lambda row: fill_translation(row, \"de\"), axis=1)\n",
        "df[\"Response_TA\"] = df.apply(lambda row: fill_translation(row, \"ta\"), axis=1)\n",
        "\n",
        "# Save fixed dataset\n",
        "df.to_csv(\"final_banking_data_translated_fixed.csv\", index=False)\n",
        "print(\" Dataset cleaned and saved as final_banking_data_translated_fixed.csv\")"
      ],
      "metadata": {
        "colab": {
          "base_uri": "https://localhost:8080/"
        },
        "id": "iRz4F-s5Am3_",
        "outputId": "c0137e6a-e3aa-4f50-f2a6-4573eedfaf55"
      },
      "execution_count": 25,
      "outputs": [
        {
          "output_type": "stream",
          "name": "stdout",
          "text": [
            "✅ Dataset cleaned and saved as final_banking_data_translated_fixed.csv\n"
          ]
        }
      ]
    },
    {
      "cell_type": "code",
      "source": [
        "import pandas as pd\n",
        "\n",
        "df = pd.read_csv(\"/content/final_banking_data_translated_fixed.csv\")\n",
        "\n",
        "# Check for blank or missing responses\n",
        "print(\" Empty English Responses:\")\n",
        "print(df[df[\"Response\"].isna() | (df[\"Response\"].str.strip() == \"\")][[\"Query\", \"Response\"]])\n",
        "\n",
        "print(\"\\n Sample Rows:\")\n",
        "print(df.sample(10))"
      ],
      "metadata": {
        "colab": {
          "base_uri": "https://localhost:8080/"
        },
        "id": "pY4dw0E-ICsU",
        "outputId": "9a4a9a84-08cf-4d7f-f2a3-45f1e60ef81d"
      },
      "execution_count": 26,
      "outputs": [
        {
          "output_type": "stream",
          "name": "stdout",
          "text": [
            " Empty English Responses:\n",
            "                                                  Query Response\n",
            "2     எனது கணக்கு செயல்பாட்டு வரலாற்றை நான் பார்க்க ...      NaN\n",
            "3     Kann ich eine Kopie meiner Kontosgeschichte er...      NaN\n",
            "5     Was muss ich bereitstellen, um ein Bankkonto z...      NaN\n",
            "13    Kann ich über eine mobile App auf mein Konto z...      NaN\n",
            "14                         Wie schließe ich mein Konto?      NaN\n",
            "...                                                 ...      ...\n",
            "1302  தனிப்பட்ட கடன் வரிக்கு நான் எவ்வாறு விண்ணப்பிப...      NaN\n",
            "1305  Kann ich meine Account -Aktivitätsgeschichte a...      NaN\n",
            "1307  Kann ich ein Darlehen für die Verbesserung des...      NaN\n",
            "1313          Bieten Sie Investmentdienstleistungen an?      NaN\n",
            "1316                   How do I set up a joint account?      NaN\n",
            "\n",
            "[313 rows x 2 columns]\n",
            "\n",
            " Sample Rows:\n",
            "                                                  Query  \\\n",
            "592   What is the interest rate for a homeimprovemen...   \n",
            "1026  What is the interest rate for a debtconsolidat...   \n",
            "483                    How can I order a new checkbook?   \n",
            "33                 Bieten Sie Student Loan Services an?   \n",
            "91        What is the interest rate for a venture loan?   \n",
            "730   Kann ich eine Kopie meines Kontovertrags erhal...   \n",
            "38                 எனது கணக்கு வகையை எவ்வாறு மாற்றுவது?   \n",
            "305     What is the interest rate for a education loan?   \n",
            "181      What is the interest rate for a personal loan?   \n",
            "634                How do I change my account password?   \n",
            "\n",
            "                                               Response language     intent  \\\n",
            "592   The current interest rate for a homeimprovemen...       en  loan_info   \n",
            "1026  The current interest rate for a debtconsolidat...       en  loan_info   \n",
            "483                                                 NaN       en    unknown   \n",
            "33                                                  NaN       de    unknown   \n",
            "91    The current interest rate for a venture loan i...       en  loan_info   \n",
            "730                                                 NaN       de    unknown   \n",
            "38                                                  NaN       ta    unknown   \n",
            "305   The current interest rate for a education loan...       en  loan_info   \n",
            "181   The current interest rate for a personal loan ...       en  loan_info   \n",
            "634   To change your account password, log into your...       en    unknown   \n",
            "\n",
            "                                            Response_DE  \\\n",
            "592   Der aktuelle Zinssatz für ein Hausverbesserung...   \n",
            "1026  Der aktuelle Zinssatz für ein Schuldenkonsolid...   \n",
            "483   You can order a new checkbook through our onli...   \n",
            "33    Ja, wir bieten Studentendarlehensleistungen an...   \n",
            "91    Der aktuelle Zinssatz für ein Risikokredit bet...   \n",
            "730   Fordern Sie eine Kopie Ihres Kontovertrags an,...   \n",
            "38                                                  NaN   \n",
            "305   Der aktuelle Zinssatz für ein Bildungsdarlehen...   \n",
            "181   Der aktuelle Zinssatz für ein persönliches Dar...   \n",
            "634   Um Ihr Kontokennwort zu ändern, melden Sie sic...   \n",
            "\n",
            "                                            Response_TA  \n",
            "592   வீட்டு மேம்பாட்டுக் கடனுக்கான தற்போதைய வட்டி வ...  \n",
            "1026  கடன் ஒருங்கிணைப்பு கடனுக்கான தற்போதைய வட்டி வி...  \n",
            "483                                                 NaN  \n",
            "33                                                  NaN  \n",
            "91    துணிகர கடனுக்கான தற்போதைய வட்டி விகிதம் 18.7%ஆ...  \n",
            "730                                                 NaN  \n",
            "38    உங்கள் கணக்கு வகையை மாற்ற, வாடிக்கையாளர் சேவைய...  \n",
            "305   கல்வி கடனுக்கான தற்போதைய வட்டி விகிதம் 9.1%ஆகும்.  \n",
            "181   தனிப்பட்ட கடனுக்கான தற்போதைய வட்டி விகிதம் 10....  \n",
            "634   உங்கள் கணக்கு கடவுச்சொல்லை மாற்ற, உங்கள் ஆன்லை...  \n"
          ]
        }
      ]
    },
    {
      "cell_type": "markdown",
      "source": [
        "Having some issues in the English response EN here in the below steps we are using Translation only if the English column is Empty"
      ],
      "metadata": {
        "id": "QbA7pbPIJ1ir"
      }
    },
    {
      "cell_type": "code",
      "source": [
        "# Setup translator\n",
        "translator = Translator()\n",
        "\n"
      ],
      "metadata": {
        "id": "m9WKjn_yIYTI"
      },
      "execution_count": 27,
      "outputs": []
    },
    {
      "cell_type": "code",
      "source": [
        "# Function to translate to English when Response is missing\n",
        "def fill_english(row):\n",
        "    if pd.isna(row[\"Response\"]) or row[\"Response\"].strip() == \"\":\n",
        "        # Use German if available\n",
        "        if pd.notna(row[\"Response_DE\"]) and row[\"Response_DE\"].strip() != \"\":\n",
        "            try:\n",
        "                return translator.translate(row[\"Response_DE\"], dest=\"en\").text\n",
        "            except:\n",
        "                return \"\"\n",
        "        # Use Tamil if German is not available\n",
        "        elif pd.notna(row[\"Response_TA\"]) and row[\"Response_TA\"].strip() != \"\":\n",
        "            try:\n",
        "                return translator.translate(row[\"Response_TA\"], dest=\"en\").text\n",
        "            except:\n",
        "                return \"\"\n",
        "    return row[\"Response\"]  # If already filled, leave it\n",
        "\n",
        "# Apply the fix to dataset\n",
        "df[\"Response\"] = df.apply(fill_english, axis=1)\n",
        "\n",
        "# Save updated dataset\n",
        "df.to_csv(\"Internatioanl_banking_data_chatbot.csv\", index=False)\n",
        "print(\" Saved as final_banking_data_translated_final.csv\")\n",
        "\n"
      ],
      "metadata": {
        "colab": {
          "base_uri": "https://localhost:8080/"
        },
        "id": "1fNMmwNyIbPV",
        "outputId": "ab97d5f9-5e64-4412-9ca9-34238b68d0ee"
      },
      "execution_count": 28,
      "outputs": [
        {
          "output_type": "stream",
          "name": "stdout",
          "text": [
            " Saved as final_banking_data_translated_final.csv\n"
          ]
        }
      ]
    },
    {
      "cell_type": "code",
      "source": [
        "df = pd.read_csv(\"/content/Internatioanl_banking_data_chatbot.csv\")\n",
        "\n",
        "# Check for blank or missing responses\n",
        "print(\" Empty English Responses:\")\n",
        "print(df[df[\"Response\"].isna() | (df[\"Response\"].str.strip() == \"\")][[\"Query\", \"Response\"]])\n",
        "\n",
        "print(\" Sample Rows:\")\n",
        "print(df.sample(10))"
      ],
      "metadata": {
        "colab": {
          "base_uri": "https://localhost:8080/"
        },
        "id": "eI_lcZ0EKF1F",
        "outputId": "ed7c1349-8806-42b2-f06f-389e1caf0630"
      },
      "execution_count": 29,
      "outputs": [
        {
          "output_type": "stream",
          "name": "stdout",
          "text": [
            " Empty English Responses:\n",
            "                                                  Query Response\n",
            "1279  எனது கணக்கு பரிவர்த்தனைகளுக்கான விழிப்பூட்டல்க...      NaN\n",
            " Sample Rows:\n",
            "                                                  Query  \\\n",
            "888                 Wie richte ich Online -Banking ein?   \n",
            "1307  Kann ich ein Darlehen für die Verbesserung des...   \n",
            "236     What is the interest rate for a education loan?   \n",
            "213   What is the interest rate for a debtconsolidat...   \n",
            "324   What is the interest rate for a homeimprovemen...   \n",
            "614   What is the interest rate for a debtconsolidat...   \n",
            "433       What is the interest rate for a venture loan?   \n",
            "683     What is the interest rate for a education loan?   \n",
            "500     What is the interest rate for a education loan?   \n",
            "104   What is the interest rate for a debtconsolidat...   \n",
            "\n",
            "                                               Response language     intent  \\\n",
            "888   To set up online banking, visit our website an...       de    unknown   \n",
            "1307  Yes, we offer loans to improve home.Apply onli...       de    unknown   \n",
            "236   The current interest rate for a education loan...       en  loan_info   \n",
            "213   The current interest rate for a debtconsolidat...       en  loan_info   \n",
            "324   The current interest rate for a homeimprovemen...       en  loan_info   \n",
            "614   The current interest rate for a debtconsolidat...       en  loan_info   \n",
            "433   The current interest rate for a venture loan i...       en  loan_info   \n",
            "683   The current interest rate for a education loan...       en  loan_info   \n",
            "500   The current interest rate for a education loan...       en  loan_info   \n",
            "104   The current interest rate for a debtconsolidat...       en  loan_info   \n",
            "\n",
            "                                            Response_DE  \\\n",
            "888   Um Online -Banking einzurichten, besuchen Sie ...   \n",
            "1307  Ja, wir bieten Kredite für die Verbesserung de...   \n",
            "236   Der aktuelle Zinssatz für ein Bildungsdarlehen...   \n",
            "213   Der aktuelle Zinssatz für ein Schuldenkonsolid...   \n",
            "324   Der aktuelle Zinssatz für ein Hausverbesserung...   \n",
            "614   Der aktuelle Zinssatz für ein Schuldenkonsolid...   \n",
            "433   Der aktuelle Zinssatz für ein Risikokredit bet...   \n",
            "683   Der aktuelle Zinssatz für ein Bildungsdarlehen...   \n",
            "500   Der aktuelle Zinssatz für ein Bildungsdarlehen...   \n",
            "104   Der aktuelle Zinssatz für ein Schuldenkonsolid...   \n",
            "\n",
            "                                            Response_TA  \n",
            "888                                                 NaN  \n",
            "1307                                                NaN  \n",
            "236   கல்வி கடனுக்கான தற்போதைய வட்டி விகிதம் 11.8%ஆக...  \n",
            "213   கடன் ஒருங்கிணைப்பு கடனுக்கான தற்போதைய வட்டி வி...  \n",
            "324   வீட்டு மேம்பாட்டுக் கடனுக்கான தற்போதைய வட்டி வ...  \n",
            "614   கடன் ஒருங்கிணைப்பு கடனுக்கான தற்போதைய வட்டி வி...  \n",
            "433   துணிகர கடனுக்கான தற்போதைய வட்டி விகிதம் 18.3%ஆ...  \n",
            "683   கல்வி கடனுக்கான தற்போதைய வட்டி விகிதம் 10.8%ஆக...  \n",
            "500   கல்வி கடனுக்கான தற்போதைய வட்டி விகிதம் 8.8%ஆகும்.  \n",
            "104   கடன் ஒருங்கிணைப்பு கடனுக்கான தற்போதைய வட்டி வி...  \n"
          ]
        }
      ]
    }
  ]
}