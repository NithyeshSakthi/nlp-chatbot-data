{
  "cells": [
    {
      "cell_type": "markdown",
      "source": [
        "[link text](https://)"
      ],
      "metadata": {
        "id": "hhPPVwVcEyuc"
      }
    },
    {
      "cell_type": "code",
      "source": [
        "import json\n",
        "import pandas as pd\n",
        "import pandas as pd"
      ],
      "metadata": {
        "id": "6mkavepyjA7p"
      },
      "execution_count": 2,
      "outputs": []
    },
    {
      "cell_type": "markdown",
      "source": [
        "1.Load the Json file from the local downloaded data"
      ],
      "metadata": {
        "id": "ypQdrWCKjN1v"
      }
    },
    {
      "cell_type": "code",
      "source": [
        "with open(\"intents.json\", \"r\", encoding=\"utf-8\") as f:\n",
        "    data = json.load(f)\n",
        "\n",
        "intents = data.get(\"intents\", [])  # Safely extract the list"
      ],
      "metadata": {
        "id": "Vnwhf_UfkBJZ"
      },
      "execution_count": 6,
      "outputs": []
    },
    {
      "cell_type": "markdown",
      "source": [
        "2. Loop and Data Flatten"
      ],
      "metadata": {
        "id": "RfJEySCTMcuJ"
      }
    },
    {
      "cell_type": "code",
      "source": [
        "\n",
        "rows = []\n",
        "\n",
        "for intent in intents:\n",
        "    for pattern in intent[\"patterns\"]:\n",
        "        response = intent[\"responses\"][0]  # Take the first response\n",
        "        rows.append({\n",
        "            \"Query\": pattern,\n",
        "            \"Response\": response,\n",
        "            \"language\": \"en\",\n",
        "            \"intent\": intent[\"tag\"]\n",
        "        })"
      ],
      "metadata": {
        "id": "Mn_ZnIJmByIZ"
      },
      "execution_count": 8,
      "outputs": []
    },
    {
      "cell_type": "code",
      "source": [
        "# Step 3: Turn into DataFrame and save\n",
        "df_flat = pd.DataFrame(rows)\n",
        "df_flat.to_csv(\"greetings_en.csv\", index=False)\n",
        "print(df_flat.head())\n"
      ],
      "metadata": {
        "colab": {
          "base_uri": "https://localhost:8080/"
        },
        "id": "SEvn8Lx_Bze3",
        "outputId": "4cac7b61-415c-4cf2-8c2d-9b2dc72a108d"
      },
      "execution_count": 9,
      "outputs": [
        {
          "output_type": "stream",
          "name": "stdout",
          "text": [
            "              Query Response language    intent\n",
            "0                Hi   Hello!       en  greeting\n",
            "1      How are you?   Hello!       en  greeting\n",
            "2  Is anyone there?   Hello!       en  greeting\n",
            "3             Hello   Hello!       en  greeting\n",
            "4          Good day   Hello!       en  greeting\n"
          ]
        }
      ]
    },
    {
      "cell_type": "code",
      "source": [
        "# Load your main banking dataset\n",
        "df_banking = pd.read_csv(\"/content/banking-chatbot-multilingual.csv\")\n",
        "\n",
        "# Load your multilingual greetings/utility dataset\n",
        "df_greetings = pd.read_csv(\"/content/greetings_en.csv\")\n",
        "\n",
        "# Check basic stats (optional sanity check)\n",
        "print(\"Banking intents:\", df_banking['intent'].value_counts())\n",
        "print(\"Greeting intents:\", df_greetings['intent'].value_counts())"
      ],
      "metadata": {
        "id": "W2wGm3b9B2N2"
      },
      "execution_count": null,
      "outputs": []
    },
    {
      "cell_type": "code",
      "source": [
        "# Combining the two datasets\n",
        "df_combined = pd.concat([df_banking, df_greetings], ignore_index=True)\n",
        "\n",
        "# Shuffling all rows for training randomness (optinal)\n",
        "df_combined = df_combined.sample(frac=1, random_state=42).reset_index(drop=True)\n",
        "\n",
        "# Saving the final traing dat\n",
        "df_combined.to_csv(\"final_training_data.csv\", index=False)\n",
        "\n",
        "# Preview\n",
        "print(\"Combined dataset sample:\")\n",
        "print(df_combined.head())"
      ],
      "metadata": {
        "colab": {
          "base_uri": "https://localhost:8080/"
        },
        "id": "TvEzyymhE0p1",
        "outputId": "bcff0ae1-6d53-4030-acc3-75a5723a61c2"
      },
      "execution_count": 13,
      "outputs": [
        {
          "output_type": "stream",
          "name": "stdout",
          "text": [
            "Combined dataset sample:\n",
            "                                   Query  \\\n",
            "0                     Where is  extc HOD   \n",
            "1                                 Thanks   \n",
            "2     Do you offer mobile check deposit?   \n",
            "3                hostel college distance   \n",
            "4  How do I activate my new credit card?   \n",
            "\n",
            "                                            Response language     intent  \n",
            "0  Different school wise hod are different.So be ...       en    extchod  \n",
            "1                             I am glad I helped you       en  salutaion  \n",
            "2  Yes, we offer mobile check deposit through our...       en    unknown  \n",
            "3  For hostel detail visit <a target=\"_blank\" hre...       en     hostel  \n",
            "4  Activate your new credit card by calling the a...       en    unknown  \n"
          ]
        }
      ]
    }
  ],
  "metadata": {
    "colab": {
      "provenance": []
    },
    "kernelspec": {
      "display_name": "Python 3",
      "name": "python3"
    },
    "language_info": {
      "name": "python"
    }
  },
  "nbformat": 4,
  "nbformat_minor": 0
}