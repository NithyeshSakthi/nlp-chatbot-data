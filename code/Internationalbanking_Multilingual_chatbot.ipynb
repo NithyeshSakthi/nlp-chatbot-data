{
  "nbformat": 4,
  "nbformat_minor": 0,
  "metadata": {
    "colab": {
      "provenance": []
    },
    "kernelspec": {
      "name": "python3",
      "display_name": "Python 3"
    },
    "language_info": {
      "name": "python"
    }
  },
  "cells": [
    {
      "cell_type": "markdown",
      "source": [
        "#   **Multilingual Banking Chatbot** -End to End NLP Pipeline"
      ],
      "metadata": {
        "id": "Yzyf8iIrjEpN"
      }
    },
    {
      "cell_type": "markdown",
      "source": [
        "As a result of the wide variety of multi international languages spoken by customers in our banking sector. It is really challenging to provide consistent, fast, and accurate support to the customer. Our Manual handling is slow, error-prone, and not scalable."
      ],
      "metadata": {
        "id": "rTV13Tc4kvjN"
      }
    },
    {
      "cell_type": "markdown",
      "source": [
        "**Business Development:**\n",
        "It is our goal to develop a multilingual banking chatbot that would be able to categorize user queries according to their intent and respond in the language of the user (currently we are handling only in English). Our banking system planned to develop the 200+ langugaes chatbot support, before that ***we are planning to execute the German and Tamil language chatbot due to the large customer encagement***.  It reduces customer service agents' workload and ensures quick and multilingual support."
      ],
      "metadata": {
        "id": "z9d9PGJ5laBQ"
      }
    },
    {
      "cell_type": "markdown",
      "source": [
        "**Business Benefits**\n",
        "1. 24 * 7 Automated support\n",
        "2. Support cost reduction\n",
        "3. Faster resolution\n",
        "4. Higher Statification"
      ],
      "metadata": {
        "id": "1MqVfUWAmk1P"
      }
    },
    {
      "cell_type": "markdown",
      "source": [
        "**Data Collection** Manually collected and augmented into 3 languages and stored as\n",
        "https://www.kaggle.com/datasets/manojajj/banking-chatbot\n",
        "https://www.kaggle.com/datasets/udaymalviya/bank-loan-data?resource=download\n",
        "https://www.kaggle.com/datasets/manojajj/banking-chatbot\n",
        "\n",
        "All code and dataset are stored in https://github.com/NithyeshSakthi/nlp-chatbot-data\n",
        "\n",
        "we collected 3 datasets 1. which we used for greetings *Datasets/greetings_en.csv* 2.for laon queries *Datasets/loan_data.cs*v 3. for ususal bank queries *Datasets/Dataset_Banking_chatbot.csv*\n",
        "\n",
        "I have altered the data and stored in the Datasets/*final_banking_data_translated.csv* after the issues with the wrong translation we fixed here  *nlp-chatbot-data/code\n",
        "/Dataset-Internatioanl_banking_data_chatbot.ipynb*"
      ],
      "metadata": {
        "id": "zYBIrnylnDi9"
      }
    },
    {
      "cell_type": "markdown",
      "source": [
        "**High-Level System Design**\n",
        "\n",
        "- Data Ingestion: CSV file with multilingual queries and intents\n",
        "\n",
        "- Text Preprocessing: Clean, tokenize, lemmatize queries\n",
        "\n",
        "- Feature Engineering: TF-IDF vectorization\n",
        "\n",
        "- Intent Modeling: Train a classifier (Multinomial Naive Bayes)\n",
        "\n",
        "- Relabeling Module: Fix unknown intents using keyword rules + similarity\n",
        "\n",
        "- Response Generation: Return appropriate multilingual response\n",
        "\n",
        "- Evaluation: Classification metrics + confusion matrix"
      ],
      "metadata": {
        "id": "UvPaOPQlvTpa"
      }
    },
    {
      "cell_type": "markdown",
      "source": [
        "# 1.Imports & Setup\n",
        "Load necessary packages and tools mainly to run the datavisualization, preprocessing, data handling and model trainng\n"
      ],
      "metadata": {
        "id": "1r2HV0hAoZYU"
      }
    },
    {
      "cell_type": "code",
      "execution_count": 20,
      "metadata": {
        "colab": {
          "base_uri": "https://localhost:8080/"
        },
        "id": "emjr2rQ_oWdE",
        "outputId": "de65d7d1-d5b1-497c-92cc-f74677f43791"
      },
      "outputs": [
        {
          "output_type": "stream",
          "name": "stderr",
          "text": [
            "[nltk_data] Downloading package punkt to /root/nltk_data...\n",
            "[nltk_data]   Package punkt is already up-to-date!\n",
            "[nltk_data] Downloading package stopwords to /root/nltk_data...\n",
            "[nltk_data]   Package stopwords is already up-to-date!\n",
            "[nltk_data] Downloading package wordnet to /root/nltk_data...\n",
            "[nltk_data]   Package wordnet is already up-to-date!\n",
            "[nltk_data] Downloading package averaged_perceptron_tagger to\n",
            "[nltk_data]     /root/nltk_data...\n",
            "[nltk_data]   Package averaged_perceptron_tagger is already up-to-\n",
            "[nltk_data]       date!\n"
          ]
        },
        {
          "output_type": "execute_result",
          "data": {
            "text/plain": [
              "True"
            ]
          },
          "metadata": {},
          "execution_count": 20
        }
      ],
      "source": [
        "import pandas as pd\n",
        "import numpy as np\n",
        "import re\n",
        "import string\n",
        "import nltk\n",
        "import matplotlib.pyplot as plt\n",
        "import seaborn as sns\n",
        "import json\n",
        "\n",
        "from nltk.corpus import stopwords, wordnet\n",
        "from nltk.stem import WordNetLemmatizer\n",
        "from nltk import word_tokenize, pos_tag\n",
        "from sklearn.feature_extraction.text import TfidfVectorizer\n",
        "from sklearn.model_selection import train_test_split\n",
        "from sklearn.naive_bayes import MultinomialNB\n",
        "from sklearn.metrics import classification_report, confusion_matrix\n",
        "\n",
        "# Downloaded necessary NLTK resources\n",
        "nltk.download(\"punkt\")\n",
        "nltk.download(\"stopwords\")\n",
        "nltk.download(\"wordnet\")\n",
        "nltk.download(\"averaged_perceptron_tagger\")"
      ]
    },
    {
      "cell_type": "markdown",
      "source": [
        "# 2. Load the Dataset\n",
        "Here we expand the columns what my chatbot CSV file contains"
      ],
      "metadata": {
        "id": "bNg5O9CYohZi"
      }
    },
    {
      "cell_type": "code",
      "source": [
        "df = pd.read_csv(\"/content/Internatioanl_banking_data_chatbot.csv\")  # Ensure expected columns exist\n",
        "print(df.columns)"
      ],
      "metadata": {
        "colab": {
          "base_uri": "https://localhost:8080/"
        },
        "id": "caBWd1f6ou5o",
        "outputId": "f6ce9ff0-cc11-42e8-b369-1ae11e281d86"
      },
      "execution_count": 46,
      "outputs": [
        {
          "output_type": "stream",
          "name": "stdout",
          "text": [
            "Index(['Query', 'Response', 'language', 'intent', 'Response_DE',\n",
            "       'Response_TA'],\n",
            "      dtype='object')\n"
          ]
        }
      ]
    },
    {
      "cell_type": "markdown",
      "source": [
        "# 3. Text Cleaning & Preprocessing\n",
        "This cleaning and preprocessing includes the cleaning the text and its takes for traing and matching"
      ],
      "metadata": {
        "id": "sCRAjJrao5AY"
      }
    },
    {
      "cell_type": "code",
      "source": [
        "stop_words = set(stopwords.words(\"english\"))\n",
        "lemmatizer = WordNetLemmatizer()\n",
        "\n",
        "def get_wordnet_pos(tag):\n",
        "    if tag.startswith(\"J\"): return wordnet.ADJ\n",
        "    elif tag.startswith(\"V\"): return wordnet.VERB\n",
        "    elif tag.startswith(\"N\"): return wordnet.NOUN\n",
        "    elif tag.startswith(\"R\"): return wordnet.ADV\n",
        "    return wordnet.NOUN\n",
        "\n",
        "def preprocess(text):\n",
        "    text = text.lower()\n",
        "    text = re.sub(r\"\\d+\", \"\", text)\n",
        "    text = re.sub(f\"[{re.escape(string.punctuation)}]\", \"\", text)\n",
        "    tokens = word_tokenize(text)\n",
        "    tokens = [t for t in tokens if t not in stop_words]\n",
        "    tagged = pos_tag(tokens)\n",
        "    return \" \".join([lemmatizer.lemmatize(w, get_wordnet_pos(p)) for w, p in tagged])\n",
        "\n",
        "df[\"clean_text\"] = df[\"Query\"].astype(str).apply(preprocess)\n"
      ],
      "metadata": {
        "id": "AedMlZokr7CV"
      },
      "execution_count": 47,
      "outputs": []
    },
    {
      "cell_type": "markdown",
      "source": [
        "# 4. EDA (Exploratory Data Analysis)\n",
        "Detects the imabalces betweeen the class labels like loan_info, Grettings, goodbuy."
      ],
      "metadata": {
        "id": "nsEiPhcbsJm9"
      }
    },
    {
      "cell_type": "code",
      "source": [
        "plt.figure(figsize=(10, 4))\n",
        "sns.countplot(data=df, y=\"intent\", order=df[\"intent\"].value_counts().index)\n",
        "plt.title(\"Intent Distribution\")\n",
        "plt.show()"
      ],
      "metadata": {
        "colab": {
          "base_uri": "https://localhost:8080/",
          "height": 410
        },
        "id": "HiS99jmjrBUL",
        "outputId": "30480130-37b2-47ba-f66e-e625928990ff"
      },
      "execution_count": 48,
      "outputs": [
        {
          "output_type": "display_data",
          "data": {
            "text/plain": [
              "<Figure size 1000x400 with 1 Axes>"
            ],
            "image/png": "[encoded data removed]"
          },
          "metadata": {}
        }
      ]
    },
    {
      "cell_type": "markdown",
      "source": [
        "# 5. Relabel Misclassified unknown Intents (Positioned After EDA)\n",
        "Here 400+ unknown misclassified samples are labled so here we apply the rule for pre labe;ing"
      ],
      "metadata": {
        "id": "g-oysxEQz-vr"
      }
    },
    {
      "cell_type": "code",
      "source": [
        "# 1. Manual relabeling based on patterns\n",
        "df.loc[df[\"Query\"].str.contains(\"credit report\", case=False), \"intent\"] = \"account_info\"\n",
        "df.loc[df[\"Query\"].str.contains(\"wire transfer\", case=False), \"intent\"] = \"fees_info\"\n",
        "df.loc[df[\"Query\"].str.contains(\"branch hours\", case=False), \"intent\"] = \"account_info\"\n",
        "\n",
        "# 2. Similarity-based relabeling (semi-automatic)\n",
        "from sklearn.feature_extraction.text import TfidfVectorizer\n",
        "from sklearn.metrics.pairwise import cosine_similarity\n",
        "\n",
        "known = df[df[\"intent\"] != \"unknown\"].copy()\n",
        "unknown = df[df[\"intent\"] == \"unknown\"].copy()\n",
        "\n",
        "# Clean NaNs and whitespace\n",
        "known[\"clean_text\"] = known[\"clean_text\"].fillna(\"\").astype(str).str.strip()\n",
        "unknown[\"clean_text\"] = unknown[\"clean_text\"].fillna(\"\").astype(str).str.strip()\n",
        "\n",
        "# Check if there are any unknown samples left before proceeding\n",
        "if not unknown.empty:\n",
        "    vectorizer_temp = TfidfVectorizer()\n",
        "    vectorizer_temp.fit(df[\"clean_text\"])  # Fit on entire dataset\n",
        "\n",
        "    X_known = vectorizer_temp.transform(known[\"clean_text\"])\n",
        "    X_unknown = vectorizer_temp.transform(unknown[\"clean_text\"])\n",
        "\n",
        "    relabels = []\n",
        "    threshold = 0.4  # Optional similarity threshold\n",
        "\n",
        "    for i in range(X_unknown.shape[0]):\n",
        "        similarities = cosine_similarity(X_unknown[i], X_known).flatten()\n",
        "        best_score = similarities.max()\n",
        "        if best_score >= threshold:\n",
        "            intent = known.iloc[similarities.argmax()][\"intent\"]\n",
        "        else:\n",
        "            intent = \"unknown\"\n",
        "        relabels.append(intent)\n",
        "# Apply relabels to the main DataFrame\n",
        "    df.loc[df[\"intent\"] == \"unknown\", \"intent\"] = relabels\n",
        "\n",
        "# Save relabeling audit log\n",
        "    unknown[\"new_intent\"] = relabels\n",
        "    unknown.to_csv(\"intent_relabel_audit.csv\", index=False)\n",
        "    print(\" Relabeling done... Log saved.\")\n",
        "else:\n",
        "    print(\"No unknown intents found after manual relabeling. Skipping similarity-based relabeling.\")"
      ],
      "metadata": {
        "colab": {
          "base_uri": "https://localhost:8080/"
        },
        "id": "CRLe6Yzs0CD-",
        "outputId": "9cec8fc4-143f-4b44-b286-42e28b6a7581"
      },
      "execution_count": 56,
      "outputs": [
        {
          "output_type": "stream",
          "name": "stdout",
          "text": [
            " Relabeling done. Log saved.\n"
          ]
        }
      ]
    },
    {
      "cell_type": "markdown",
      "source": [
        "# 6. Vectorization with **TF**-**IDF**\n",
        "It help to convert from text to number for better understanding for ML"
      ],
      "metadata": {
        "id": "0ur3YVyz1C8v"
      }
    },
    {
      "cell_type": "code",
      "source": [
        "vectorizer = TfidfVectorizer(ngram_range=(1, 2), min_df=2, max_df=0.9)\n",
        "X = vectorizer.fit_transform(df[\"clean_text\"])\n",
        "y = df[\"intent\"]\n",
        "X_train, X_test, y_train, y_test = train_test_split(X, y, stratify=y, test_size=0.2, random_state=42)"
      ],
      "metadata": {
        "id": "8GCqneqB0-8h"
      },
      "execution_count": 50,
      "outputs": []
    },
    {
      "cell_type": "markdown",
      "source": [
        " # 7. Model Training- Mutltinomial Naive Bayes\n",
        "It helps for intent the unseen queries performance bias the dominante category\n"
      ],
      "metadata": {
        "id": "gQjKtJE21QRG"
      }
    },
    {
      "cell_type": "code",
      "source": [
        "\n",
        "model = MultinomialNB()\n",
        "model.fit(X_train, y_train)"
      ],
      "metadata": {
        "colab": {
          "base_uri": "https://localhost:8080/",
          "height": 80
        },
        "id": "-Z5jbVcT1NDC",
        "outputId": "60ce4eca-571e-4ab6-a1bc-d6aa1776595e"
      },
      "execution_count": 52,
      "outputs": [
        {
          "output_type": "execute_result",
          "data": {
            "text/plain": [
              "MultinomialNB()"
            ],
            "text/html": [
              "<style>#sk-container-id-3 {\n",
              "  /* Definition of color scheme common for light and dark mode */\n",
              "  --sklearn-color-text: #000;\n",
              "  --sklearn-color-text-muted: #666;\n",
              "  --sklearn-color-line: gray;\n",
              "  /* Definition of color scheme for unfitted estimators */\n",
              "  --sklearn-color-unfitted-level-0: #fff5e6;\n",
              "  --sklearn-color-unfitted-level-1: #f6e4d2;\n",
              "  --sklearn-color-unfitted-level-2: #ffe0b3;\n",
              "  --sklearn-color-unfitted-level-3: chocolate;\n",
              "  /* Definition of color scheme for fitted estimators */\n",
              "  --sklearn-color-fitted-level-0: #f0f8ff;\n",
              "  --sklearn-color-fitted-level-1: #d4ebff;\n",
              "  --sklearn-color-fitted-level-2: #b3dbfd;\n",
              "  --sklearn-color-fitted-level-3: cornflowerblue;\n",
              "\n",
              "  /* Specific color for light theme */\n",
              "  --sklearn-color-text-on-default-background: var(--sg-text-color, var(--theme-code-foreground, var(--jp-content-font-color1, black)));\n",
              "  --sklearn-color-background: var(--sg-background-color, var(--theme-background, var(--jp-layout-color0, white)));\n",
              "  --sklearn-color-border-box: var(--sg-text-color, var(--theme-code-foreground, var(--jp-content-font-color1, black)));\n",
              "  --sklearn-color-icon: #696969;\n",
              "\n",
              "  @media (prefers-color-scheme: dark) {\n",
              "    /* Redefinition of color scheme for dark theme */\n",
              "    --sklearn-color-text-on-default-background: var(--sg-text-color, var(--theme-code-foreground, var(--jp-content-font-color1, white)));\n",
              "    --sklearn-color-background: var(--sg-background-color, var(--theme-background, var(--jp-layout-color0, #111)));\n",
              "    --sklearn-color-border-box: var(--sg-text-color, var(--theme-code-foreground, var(--jp-content-font-color1, white)));\n",
              "    --sklearn-color-icon: #878787;\n",
              "  }\n",
              "}\n",
              "\n",
              "#sk-container-id-3 {\n",
              "  color: var(--sklearn-color-text);\n",
              "}\n",
              "\n",
              "#sk-container-id-3 pre {\n",
              "  padding: 0;\n",
              "}\n",
              "\n",
              "#sk-container-id-3 input.sk-hidden--visually {\n",
              "  border: 0;\n",
              "  clip: rect(1px 1px 1px 1px);\n",
              "  clip: rect(1px, 1px, 1px, 1px);\n",
              "  height: 1px;\n",
              "  margin: -1px;\n",
              "  overflow: hidden;\n",
              "  padding: 0;\n",
              "  position: absolute;\n",
              "  width: 1px;\n",
              "}\n",
              "\n",
              "#sk-container-id-3 div.sk-dashed-wrapped {\n",
              "  border: 1px dashed var(--sklearn-color-line);\n",
              "  margin: 0 0.4em 0.5em 0.4em;\n",
              "  box-sizing: border-box;\n",
              "  padding-bottom: 0.4em;\n",
              "  background-color: var(--sklearn-color-background);\n",
              "}\n",
              "\n",
              "#sk-container-id-3 div.sk-container {\n",
              "  /* jupyter's `normalize.less` sets `[hidden] { display: none; }`\n",
              "     but bootstrap.min.css set `[hidden] { display: none !important; }`\n",
              "     so we also need the `!important` here to be able to override the\n",
              "     default hidden behavior on the sphinx rendered scikit-learn.org.\n",
              "     See: https://github.com/scikit-learn/scikit-learn/issues/21755 */\n",
              "  display: inline-block !important;\n",
              "  position: relative;\n",
              "}\n",
              "\n",
              "#sk-container-id-3 div.sk-text-repr-fallback {\n",
              "  display: none;\n",
              "}\n",
              "\n",
              "div.sk-parallel-item,\n",
              "div.sk-serial,\n",
              "div.sk-item {\n",
              "  /* draw centered vertical line to link estimators */\n",
              "  background-image: linear-gradient(var(--sklearn-color-text-on-default-background), var(--sklearn-color-text-on-default-background));\n",
              "  background-size: 2px 100%;\n",
              "  background-repeat: no-repeat;\n",
              "  background-position: center center;\n",
              "}\n",
              "\n",
              "/* Parallel-specific style estimator block */\n",
              "\n",
              "#sk-container-id-3 div.sk-parallel-item::after {\n",
              "  content: \"\";\n",
              "  width: 100%;\n",
              "  border-bottom: 2px solid var(--sklearn-color-text-on-default-background);\n",
              "  flex-grow: 1;\n",
              "}\n",
              "\n",
              "#sk-container-id-3 div.sk-parallel {\n",
              "  display: flex;\n",
              "  align-items: stretch;\n",
              "  justify-content: center;\n",
              "  background-color: var(--sklearn-color-background);\n",
              "  position: relative;\n",
              "}\n",
              "\n",
              "#sk-container-id-3 div.sk-parallel-item {\n",
              "  display: flex;\n",
              "  flex-direction: column;\n",
              "}\n",
              "\n",
              "#sk-container-id-3 div.sk-parallel-item:first-child::after {\n",
              "  align-self: flex-end;\n",
              "  width: 50%;\n",
              "}\n",
              "\n",
              "#sk-container-id-3 div.sk-parallel-item:last-child::after {\n",
              "  align-self: flex-start;\n",
              "  width: 50%;\n",
              "}\n",
              "\n",
              "#sk-container-id-3 div.sk-parallel-item:only-child::after {\n",
              "  width: 0;\n",
              "}\n",
              "\n",
              "/* Serial-specific style estimator block */\n",
              "\n",
              "#sk-container-id-3 div.sk-serial {\n",
              "  display: flex;\n",
              "  flex-direction: column;\n",
              "  align-items: center;\n",
              "  background-color: var(--sklearn-color-background);\n",
              "  padding-right: 1em;\n",
              "  padding-left: 1em;\n",
              "}\n",
              "\n",
              "\n",
              "/* Toggleable style: style used for estimator/Pipeline/ColumnTransformer box that is\n",
              "clickable and can be expanded/collapsed.\n",
              "- Pipeline and ColumnTransformer use this feature and define the default style\n",
              "- Estimators will overwrite some part of the style using the `sk-estimator` class\n",
              "*/\n",
              "\n",
              "/* Pipeline and ColumnTransformer style (default) */\n",
              "\n",
              "#sk-container-id-3 div.sk-toggleable {\n",
              "  /* Default theme specific background. It is overwritten whether we have a\n",
              "  specific estimator or a Pipeline/ColumnTransformer */\n",
              "  background-color: var(--sklearn-color-background);\n",
              "}\n",
              "\n",
              "/* Toggleable label */\n",
              "#sk-container-id-3 label.sk-toggleable__label {\n",
              "  cursor: pointer;\n",
              "  display: flex;\n",
              "  width: 100%;\n",
              "  margin-bottom: 0;\n",
              "  padding: 0.5em;\n",
              "  box-sizing: border-box;\n",
              "  text-align: center;\n",
              "  align-items: start;\n",
              "  justify-content: space-between;\n",
              "  gap: 0.5em;\n",
              "}\n",
              "\n",
              "#sk-container-id-3 label.sk-toggleable__label .caption {\n",
              "  font-size: 0.6rem;\n",
              "  font-weight: lighter;\n",
              "  color: var(--sklearn-color-text-muted);\n",
              "}\n",
              "\n",
              "#sk-container-id-3 label.sk-toggleable__label-arrow:before {\n",
              "  /* Arrow on the left of the label */\n",
              "  content: \"▸\";\n",
              "  float: left;\n",
              "  margin-right: 0.25em;\n",
              "  color: var(--sklearn-color-icon);\n",
              "}\n",
              "\n",
              "#sk-container-id-3 label.sk-toggleable__label-arrow:hover:before {\n",
              "  color: var(--sklearn-color-text);\n",
              "}\n",
              "\n",
              "/* Toggleable content - dropdown */\n",
              "\n",
              "#sk-container-id-3 div.sk-toggleable__content {\n",
              "  max-height: 0;\n",
              "  max-width: 0;\n",
              "  overflow: hidden;\n",
              "  text-align: left;\n",
              "  /* unfitted */\n",
              "  background-color: var(--sklearn-color-unfitted-level-0);\n",
              "}\n",
              "\n",
              "#sk-container-id-3 div.sk-toggleable__content.fitted {\n",
              "  /* fitted */\n",
              "  background-color: var(--sklearn-color-fitted-level-0);\n",
              "}\n",
              "\n",
              "#sk-container-id-3 div.sk-toggleable__content pre {\n",
              "  margin: 0.2em;\n",
              "  border-radius: 0.25em;\n",
              "  color: var(--sklearn-color-text);\n",
              "  /* unfitted */\n",
              "  background-color: var(--sklearn-color-unfitted-level-0);\n",
              "}\n",
              "\n",
              "#sk-container-id-3 div.sk-toggleable__content.fitted pre {\n",
              "  /* unfitted */\n",
              "  background-color: var(--sklearn-color-fitted-level-0);\n",
              "}\n",
              "\n",
              "#sk-container-id-3 input.sk-toggleable__control:checked~div.sk-toggleable__content {\n",
              "  /* Expand drop-down */\n",
              "  max-height: 200px;\n",
              "  max-width: 100%;\n",
              "  overflow: auto;\n",
              "}\n",
              "\n",
              "#sk-container-id-3 input.sk-toggleable__control:checked~label.sk-toggleable__label-arrow:before {\n",
              "  content: \"▾\";\n",
              "}\n",
              "\n",
              "/* Pipeline/ColumnTransformer-specific style */\n",
              "\n",
              "#sk-container-id-3 div.sk-label input.sk-toggleable__control:checked~label.sk-toggleable__label {\n",
              "  color: var(--sklearn-color-text);\n",
              "  background-color: var(--sklearn-color-unfitted-level-2);\n",
              "}\n",
              "\n",
              "#sk-container-id-3 div.sk-label.fitted input.sk-toggleable__control:checked~label.sk-toggleable__label {\n",
              "  background-color: var(--sklearn-color-fitted-level-2);\n",
              "}\n",
              "\n",
              "/* Estimator-specific style */\n",
              "\n",
              "/* Colorize estimator box */\n",
              "#sk-container-id-3 div.sk-estimator input.sk-toggleable__control:checked~label.sk-toggleable__label {\n",
              "  /* unfitted */\n",
              "  background-color: var(--sklearn-color-unfitted-level-2);\n",
              "}\n",
              "\n",
              "#sk-container-id-3 div.sk-estimator.fitted input.sk-toggleable__control:checked~label.sk-toggleable__label {\n",
              "  /* fitted */\n",
              "  background-color: var(--sklearn-color-fitted-level-2);\n",
              "}\n",
              "\n",
              "#sk-container-id-3 div.sk-label label.sk-toggleable__label,\n",
              "#sk-container-id-3 div.sk-label label {\n",
              "  /* The background is the default theme color */\n",
              "  color: var(--sklearn-color-text-on-default-background);\n",
              "}\n",
              "\n",
              "/* On hover, darken the color of the background */\n",
              "#sk-container-id-3 div.sk-label:hover label.sk-toggleable__label {\n",
              "  color: var(--sklearn-color-text);\n",
              "  background-color: var(--sklearn-color-unfitted-level-2);\n",
              "}\n",
              "\n",
              "/* Label box, darken color on hover, fitted */\n",
              "#sk-container-id-3 div.sk-label.fitted:hover label.sk-toggleable__label.fitted {\n",
              "  color: var(--sklearn-color-text);\n",
              "  background-color: var(--sklearn-color-fitted-level-2);\n",
              "}\n",
              "\n",
              "/* Estimator label */\n",
              "\n",
              "#sk-container-id-3 div.sk-label label {\n",
              "  font-family: monospace;\n",
              "  font-weight: bold;\n",
              "  display: inline-block;\n",
              "  line-height: 1.2em;\n",
              "}\n",
              "\n",
              "#sk-container-id-3 div.sk-label-container {\n",
              "  text-align: center;\n",
              "}\n",
              "\n",
              "/* Estimator-specific */\n",
              "#sk-container-id-3 div.sk-estimator {\n",
              "  font-family: monospace;\n",
              "  border: 1px dotted var(--sklearn-color-border-box);\n",
              "  border-radius: 0.25em;\n",
              "  box-sizing: border-box;\n",
              "  margin-bottom: 0.5em;\n",
              "  /* unfitted */\n",
              "  background-color: var(--sklearn-color-unfitted-level-0);\n",
              "}\n",
              "\n",
              "#sk-container-id-3 div.sk-estimator.fitted {\n",
              "  /* fitted */\n",
              "  background-color: var(--sklearn-color-fitted-level-0);\n",
              "}\n",
              "\n",
              "/* on hover */\n",
              "#sk-container-id-3 div.sk-estimator:hover {\n",
              "  /* unfitted */\n",
              "  background-color: var(--sklearn-color-unfitted-level-2);\n",
              "}\n",
              "\n",
              "#sk-container-id-3 div.sk-estimator.fitted:hover {\n",
              "  /* fitted */\n",
              "  background-color: var(--sklearn-color-fitted-level-2);\n",
              "}\n",
              "\n",
              "/* Specification for estimator info (e.g. \"i\" and \"?\") */\n",
              "\n",
              "/* Common style for \"i\" and \"?\" */\n",
              "\n",
              ".sk-estimator-doc-link,\n",
              "a:link.sk-estimator-doc-link,\n",
              "a:visited.sk-estimator-doc-link {\n",
              "  float: right;\n",
              "  font-size: smaller;\n",
              "  line-height: 1em;\n",
              "  font-family: monospace;\n",
              "  background-color: var(--sklearn-color-background);\n",
              "  border-radius: 1em;\n",
              "  height: 1em;\n",
              "  width: 1em;\n",
              "  text-decoration: none !important;\n",
              "  margin-left: 0.5em;\n",
              "  text-align: center;\n",
              "  /* unfitted */\n",
              "  border: var(--sklearn-color-unfitted-level-1) 1pt solid;\n",
              "  color: var(--sklearn-color-unfitted-level-1);\n",
              "}\n",
              "\n",
              ".sk-estimator-doc-link.fitted,\n",
              "a:link.sk-estimator-doc-link.fitted,\n",
              "a:visited.sk-estimator-doc-link.fitted {\n",
              "  /* fitted */\n",
              "  border: var(--sklearn-color-fitted-level-1) 1pt solid;\n",
              "  color: var(--sklearn-color-fitted-level-1);\n",
              "}\n",
              "\n",
              "/* On hover */\n",
              "div.sk-estimator:hover .sk-estimator-doc-link:hover,\n",
              ".sk-estimator-doc-link:hover,\n",
              "div.sk-label-container:hover .sk-estimator-doc-link:hover,\n",
              ".sk-estimator-doc-link:hover {\n",
              "  /* unfitted */\n",
              "  background-color: var(--sklearn-color-unfitted-level-3);\n",
              "  color: var(--sklearn-color-background);\n",
              "  text-decoration: none;\n",
              "}\n",
              "\n",
              "div.sk-estimator.fitted:hover .sk-estimator-doc-link.fitted:hover,\n",
              ".sk-estimator-doc-link.fitted:hover,\n",
              "div.sk-label-container:hover .sk-estimator-doc-link.fitted:hover,\n",
              ".sk-estimator-doc-link.fitted:hover {\n",
              "  /* fitted */\n",
              "  background-color: var(--sklearn-color-fitted-level-3);\n",
              "  color: var(--sklearn-color-background);\n",
              "  text-decoration: none;\n",
              "}\n",
              "\n",
              "/* Span, style for the box shown on hovering the info icon */\n",
              ".sk-estimator-doc-link span {\n",
              "  display: none;\n",
              "  z-index: 9999;\n",
              "  position: relative;\n",
              "  font-weight: normal;\n",
              "  right: .2ex;\n",
              "  padding: .5ex;\n",
              "  margin: .5ex;\n",
              "  width: min-content;\n",
              "  min-width: 20ex;\n",
              "  max-width: 50ex;\n",
              "  color: var(--sklearn-color-text);\n",
              "  box-shadow: 2pt 2pt 4pt #999;\n",
              "  /* unfitted */\n",
              "  background: var(--sklearn-color-unfitted-level-0);\n",
              "  border: .5pt solid var(--sklearn-color-unfitted-level-3);\n",
              "}\n",
              "\n",
              ".sk-estimator-doc-link.fitted span {\n",
              "  /* fitted */\n",
              "  background: var(--sklearn-color-fitted-level-0);\n",
              "  border: var(--sklearn-color-fitted-level-3);\n",
              "}\n",
              "\n",
              ".sk-estimator-doc-link:hover span {\n",
              "  display: block;\n",
              "}\n",
              "\n",
              "/* \"?\"-specific style due to the `<a>` HTML tag */\n",
              "\n",
              "#sk-container-id-3 a.estimator_doc_link {\n",
              "  float: right;\n",
              "  font-size: 1rem;\n",
              "  line-height: 1em;\n",
              "  font-family: monospace;\n",
              "  background-color: var(--sklearn-color-background);\n",
              "  border-radius: 1rem;\n",
              "  height: 1rem;\n",
              "  width: 1rem;\n",
              "  text-decoration: none;\n",
              "  /* unfitted */\n",
              "  color: var(--sklearn-color-unfitted-level-1);\n",
              "  border: var(--sklearn-color-unfitted-level-1) 1pt solid;\n",
              "}\n",
              "\n",
              "#sk-container-id-3 a.estimator_doc_link.fitted {\n",
              "  /* fitted */\n",
              "  border: var(--sklearn-color-fitted-level-1) 1pt solid;\n",
              "  color: var(--sklearn-color-fitted-level-1);\n",
              "}\n",
              "\n",
              "/* On hover */\n",
              "#sk-container-id-3 a.estimator_doc_link:hover {\n",
              "  /* unfitted */\n",
              "  background-color: var(--sklearn-color-unfitted-level-3);\n",
              "  color: var(--sklearn-color-background);\n",
              "  text-decoration: none;\n",
              "}\n",
              "\n",
              "#sk-container-id-3 a.estimator_doc_link.fitted:hover {\n",
              "  /* fitted */\n",
              "  background-color: var(--sklearn-color-fitted-level-3);\n",
              "}\n",
              "</style><div id=\"sk-container-id-3\" class=\"sk-top-container\"><div class=\"sk-text-repr-fallback\"><pre>MultinomialNB()</pre><b>In a Jupyter environment, please rerun this cell to show the HTML representation or trust the notebook. <br />On GitHub, the HTML representation is unable to render, please try loading this page with nbviewer.org.</b></div><div class=\"sk-container\" hidden><div class=\"sk-item\"><div class=\"sk-estimator fitted sk-toggleable\"><input class=\"sk-toggleable__control sk-hidden--visually\" id=\"sk-estimator-id-3\" type=\"checkbox\" checked><label for=\"sk-estimator-id-3\" class=\"sk-toggleable__label fitted sk-toggleable__label-arrow\"><div><div>MultinomialNB</div></div><div><a class=\"sk-estimator-doc-link fitted\" rel=\"noreferrer\" target=\"_blank\" href=\"https://scikit-learn.org/1.6/modules/generated/sklearn.naive_bayes.MultinomialNB.html\">?<span>Documentation for MultinomialNB</span></a><span class=\"sk-estimator-doc-link fitted\">i<span>Fitted</span></span></div></label><div class=\"sk-toggleable__content fitted\"><pre>MultinomialNB()</pre></div> </div></div></div></div>"
            ]
          },
          "metadata": {},
          "execution_count": 52
        }
      ]
    },
    {
      "cell_type": "markdown",
      "source": [
        "# 9. Model Evaluation\n",
        "It X_test generate the predicted intend trained models and compares with the y_pred predicted labels woth the actual lables y_test. Finally it show the visual for the actual and predicted classs"
      ],
      "metadata": {
        "id": "Vk2eqPVj1Sct"
      }
    },
    {
      "cell_type": "code",
      "source": [
        "y_pred = model.predict(X_test)\n",
        "print(classification_report(y_test, y_pred))\n",
        "\n",
        "plt.figure(figsize=(12, 6))\n",
        "sns.heatmap(confusion_matrix(y_test, y_pred), annot=True, fmt=\"d\",\n",
        "            xticklabels=model.classes_, yticklabels=model.classes_, cmap=\"Blues\")\n",
        "plt.xlabel(\"Predicted\")\n",
        "plt.ylabel(\"Actual\")\n",
        "plt.title(\"Confusion Matrix\")\n",
        "plt.show()\n"
      ],
      "metadata": {
        "colab": {
          "base_uri": "https://localhost:8080/",
          "height": 896
        },
        "id": "oUaMQ7oO1Uiw",
        "outputId": "26f820b9-5b81-4bbe-873f-34d1367ee482"
      },
      "execution_count": 53,
      "outputs": [
        {
          "output_type": "stream",
          "name": "stderr",
          "text": [
            "/usr/local/lib/python3.11/dist-packages/sklearn/metrics/_classification.py:1565: UndefinedMetricWarning: Precision is ill-defined and being set to 0.0 in labels with no predicted samples. Use `zero_division` parameter to control this behavior.\n",
            "  _warn_prf(average, modifier, f\"{metric.capitalize()} is\", len(result))\n",
            "/usr/local/lib/python3.11/dist-packages/sklearn/metrics/_classification.py:1565: UndefinedMetricWarning: Precision is ill-defined and being set to 0.0 in labels with no predicted samples. Use `zero_division` parameter to control this behavior.\n",
            "  _warn_prf(average, modifier, f\"{metric.capitalize()} is\", len(result))\n",
            "/usr/local/lib/python3.11/dist-packages/sklearn/metrics/_classification.py:1565: UndefinedMetricWarning: Precision is ill-defined and being set to 0.0 in labels with no predicted samples. Use `zero_division` parameter to control this behavior.\n",
            "  _warn_prf(average, modifier, f\"{metric.capitalize()} is\", len(result))\n"
          ]
        },
        {
          "output_type": "stream",
          "name": "stdout",
          "text": [
            "              precision    recall  f1-score   support\n",
            "\n",
            "account_info       0.00      0.00      0.00         1\n",
            "     goodbye       0.00      0.00      0.00         3\n",
            "    greeting       0.00      0.00      0.00         2\n",
            "   loan_info       0.96      1.00      0.98       174\n",
            "     unknown       0.99      0.98      0.98        85\n",
            "\n",
            "    accuracy                           0.97       265\n",
            "   macro avg       0.39      0.40      0.39       265\n",
            "weighted avg       0.95      0.97      0.96       265\n",
            "\n"
          ]
        },
        {
          "output_type": "display_data",
          "data": {
            "text/plain": [
              "<Figure size 1200x600 with 2 Axes>"
            ],
            "image/png": "[encoded data removed]"
          },
          "metadata": {}
        }
      ]
    },
    {
      "cell_type": "markdown",
      "source": [
        "# 9. Multilingual Chat Function with Confidence Threshold\n",
        "Important for Chatbot that reconganize the speaker and revert the response. Here, en - English , de- German and ta- Tamil for set the response in the cleanded detected language. is any thing further we add it will revert as \"Not understand the code\""
      ],
      "metadata": {
        "id": "ZvjtlDun1k8K"
      }
    },
    {
      "cell_type": "code",
      "source": [
        "def chat(query, reply_language=\"en\"):\n",
        "    cleaned = preprocess(query)\n",
        "    vector = vectorizer.transform([cleaned])\n",
        "    probs = model.predict_proba(vector)[0]\n",
        "    confidence = max(probs)\n",
        "    intent = model.classes_[np.argmax(probs)]\n",
        "\n",
        "    if confidence < 0.5:\n",
        "        return \"Sorry, I couldn't understand that.\"\n",
        "\n",
        "    lang_map = {\n",
        "        \"en\": \"Response\",\n",
        "        \"de\": \"Response_DE\",\n",
        "        \"ta\": \"Response_TA\"\n",
        "    }\n",
        "    col = lang_map.get(reply_language, \"Response\")\n",
        "    responses = df[df[\"intent\"] == intent][col].dropna().tolist()\n",
        "\n",
        "    return np.random.choice(responses) if responses else \"No response available.\""
      ],
      "metadata": {
        "id": "_9iIc_iA1loU"
      },
      "execution_count": 54,
      "outputs": []
    },
    {
      "cell_type": "markdown",
      "source": [
        "# 10. Test It Out!\n",
        "Final test here we can given the input\n",
        "1.what lanaguage code we used (EN, DE, TA) ,\n",
        "2.query intend - which shows where we can take debit, account_info, greeting\n",
        "3.Finally what type of query we expected\n"
      ],
      "metadata": {
        "id": "3rmSV0yU1ovS"
      }
    },
    {
      "cell_type": "code",
      "source": [
        "print(\"EN:\", chat(\"How do I reset my ATM pin?\", reply_language=\"en\"))\n",
        "print(\"DE:\", chat(\"Wie kann ich mein Konto überprüfen?\", reply_language=\"de\"))\n",
        "print(\"TA:\", chat(\"எப்படி கடன் பெறலாம்?\", reply_language=\"ta\"))"
      ],
      "metadata": {
        "colab": {
          "base_uri": "https://localhost:8080/"
        },
        "id": "pxg0i-sP1rpN",
        "outputId": "44e30627-b3db-4664-f7af-2509f2f4d9c3"
      },
      "execution_count": 55,
      "outputs": [
        {
          "output_type": "stream",
          "name": "stdout",
          "text": [
            "EN: To deny the charge, contact our customer service with the details of the fee and any auxiliary documents.\n",
            "DE: Um eine Kreditkarte zu beantragen, besuchen Sie unsere Website und füllen Sie das Online -Bewerbungsformular aus oder besuchen Sie eine Filiale, um sich persönlich zu bewerben.\n",
            "TA: உங்கள் கணக்கு வகையில் மாற்றத்தைக் கோர, வாடிக்கையாளர் சேவையைத் தொடர்பு கொள்ளுங்கள் அல்லது கிடைக்கக்கூடிய விருப்பங்கள் மற்றும் தேவைகளைப் பற்றி விவாதிக்க ஒரு கிளையைப் பார்வையிடவும்.\n"
          ]
        }
      ]
    },
    {
      "cell_type": "markdown",
      "source": [
        "#Result - For this result we got exact response from the 3 diffrent languages\n",
        "\n",
        "1. print(\"EN:\", chat(\"How do I reset my ATM pin?\", reply_language=\"en\")) - **Query intend like debit_card , account_info**\n",
        "2. print(\"DE:\", chat(\"Wie kann ich mein Konto überprüfen?\", reply_language=\"de\")) **Query intend - (How can i check my account) account-info**\n",
        "3. print(\"TA:\", chat(\"எப்படி கடன் பெறலாம்?\", reply_language=\"ta\")) **Query intend - (Where can i get the loan) Loan-info**"
      ],
      "metadata": {
        "id": "zd24Qkm_aqDb"
      }
    },
    {
      "cell_type": "markdown",
      "source": [
        "# Challanges\n",
        "1. Imbalancde and unknown intends - Reclassifed 400+ unknown queries into correct intends.\n",
        "2. Missplaced Translations - Mixed with the German transaltion with English and Tamil Transations\n",
        "3. 3 Langauage confusiion in the Dataset - Fixed misplaced responses with Tamil/German.\n",
        "4. Missing Translation (NaN) - Realtered and replced with columns with the helo of Translator.\n",
        "5. Wrong predection - Used confident filter to handle the uncertain queries"
      ],
      "metadata": {
        "id": "69zihNjpelqp"
      }
    }
  ]
}